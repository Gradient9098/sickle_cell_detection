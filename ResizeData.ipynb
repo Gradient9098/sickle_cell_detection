{
  "nbformat": 4,
  "nbformat_minor": 0,
  "metadata": {
    "colab": {
      "provenance": []
    },
    "kernelspec": {
      "name": "python3",
      "display_name": "Python 3"
    },
    "language_info": {
      "name": "python"
    }
  },
  "cells": [
    {
      "cell_type": "code",
      "execution_count": null,
      "metadata": {
        "colab": {
          "base_uri": "https://localhost:8080/"
        },
        "id": "iS85_7bl_Ggi",
        "outputId": "6bb913da-6b32-4886-bee7-511931742ba5"
      },
      "outputs": [
        {
          "output_type": "stream",
          "name": "stdout",
          "text": [
            "Drive already mounted at /content/drive; to attempt to forcibly remount, call drive.mount(\"/content/drive\", force_remount=True).\n"
          ]
        }
      ],
      "source": [
        "# connect to your drive where the images are saved\n",
        "from google.colab import drive\n",
        "drive.mount ('/content/drive')"
      ]
    },
    {
      "cell_type": "code",
      "source": [
        "# confirm your drive is connected\n",
        "!ls /content/drive/MyDrive/"
      ],
      "metadata": {
        "colab": {
          "base_uri": "https://localhost:8080/"
        },
        "id": "MaNezQfE_oQ_",
        "outputId": "98fa0012-353d-456b-fb03-9bcc64f51ee0"
      },
      "execution_count": null,
      "outputs": [
        {
          "output_type": "stream",
          "name": "stdout",
          "text": [
            "'120621 - Exam 4 Review Solutions.gdoc'\n",
            "'120621 - Exam 4 Review Solutions.pdf'\n",
            "'302 Discusssion 2 worksheet to share - student version Spr2021 (1).gdoc'\n",
            "'302 Discusssion 2 worksheet to share - student version Spr2021 (1).pdf'\n",
            "'331 Quizzes 1-6.gdoc'\n",
            "'341 Quizzes.gdoc'\n",
            "'421 Study Guide Test 2 .gdoc'\n",
            " 4.gdoc\n",
            " 4.pdf\n",
            "'AI Final .gdoc'\n",
            "'All Labs.gdoc'\n",
            " Anemic_RBC_dataset\n",
            " Anemic_RBC_dataset_resized\n",
            "'Arabidopsis .gdoc'\n",
            "'automouse (1).xlsx'\n",
            " automouse.xlsx\n",
            "'Bash Cheat Sheet.gdoc'\n",
            "'BIOL 302 EXAMS.docx'\n",
            "'BIOL 302 ICAs.docx'\n",
            "'BIOL 302-L Presentation .gslides'\n",
            "'Biol 303 Group work -mitochondria.gdoc'\n",
            "'BIOL 303-L : Buccal & Mitosis.gslides'\n",
            "'BIOL 305 Exam 2.gdoc'\n",
            "'BIOL 305 NOTES.gdoc'\n",
            "'BIOL 483 Lab.gdoc'\n",
            "'Bug Blasters Phase 4.gdoc'\n",
            "'Calculating Fst.xlsx'\n",
            "'Calculus 1 Tutoring with Emma_Final Exam 12-12-22.pptx'\n",
            "'Cell Bio Lab Final.gdoc'\n",
            "'Cell Biol Lab.gdoc'\n",
            " CHEM_352_SP22_grade_calculator.gsheet\n",
            "'CMSC 201 exam 1.gdoc'\n",
            "'CMSC 201 Exam 2 Review.gdoc'\n",
            "'CMSC 202 Exam 2 (1).gdoc'\n",
            "'CMSC 202 Exam 2.gdoc'\n",
            "'CMSC 202 Exam 2 Review Sheet.gdoc'\n",
            "'CMSC 202 Final Study Guide.gdoc'\n",
            "'CMSC 202 First Exam.gdoc'\n",
            "'CMSC 202 - Lab 03 - Arrays and Functions.docx'\n",
            "'CMSC 202 - Lab 13 - Recursion.docx'\n",
            "'CMSC 202 Lectures.gdoc'\n",
            "'CMSC 202 Part Two.gdoc'\n",
            "'CMSC 313.gdoc'\n",
            "'CMSC 313 Video Final - Emma Beyers'\n",
            "'CMSC 331.gdoc'\n",
            "'cmsc 331 Midterm Review.gdoc'\n",
            "'cmsc 341 exam 2   final.gdoc'\n",
            "'CMSC 341.gdoc'\n",
            "'cmsc 341  Midterm Review.gdoc'\n",
            "'CMSC 421.gdoc'\n",
            "'CMSC 421 Test 1 (Chap 3&4).gdoc'\n",
            "'CMSC 433.gdoc'\n",
            "'CMSC 447.gdoc'\n",
            "'CMSC 447 Individual Project.gdoc'\n",
            "'CMSC 471.gdoc'\n",
            "'CMSC 471 Midterm .gdoc'\n",
            "'CMSC 475 .gdoc'\n",
            "'CMSC NLP.gdoc'\n",
            "'CMSC Part Three.gdoc'\n",
            "'Code Slides.gdoc'\n",
            "'Colab Notebooks'\n",
            "'Comments on Emmas abstract (1).gdoc'\n",
            "'Comments on Emmas abstract.gdoc'\n",
            "'Comments on Emmas abstract.pdf'\n",
            "'Copy of CMSC 201 - Lab 05 - Strings.gdoc'\n",
            "'Copy of CMSC 201 - Lab 08 - 2D Lists.gdoc'\n",
            "'Copy of CMSC201 Midterm 2 Review.gdoc'\n",
            "'Copy of Exam 1 Review.docx'\n",
            "'Copy of LCP 1.gdoc'\n",
            "\"Copy of Matt's Review Sheet.gdoc\"\n",
            "'CS 304 Midterm.gdoc'\n",
            "'CS313 Proj3.gdoc'\n",
            "'CS 331 Final Review.gdoc'\n",
            "'CS 331 hw 3.gdoc'\n",
            "'CS 331 Quizzes.gdoc'\n",
            "'CS 341 Exams.gdoc'\n",
            "'CS 341 Quizzes.gdoc'\n",
            "'CS433 Proj3.gdoc'\n",
            "'CV Beyers - Executive Summary_Adjunct without References.docx'\n",
            "'Disc 3 worksheet to share - student version Spr2021.gdoc'\n",
            "'Disc 3 worksheet to share - student version Spr2021.pdf'\n",
            "'Disc 4 worksheet to share - student version S2021.gdoc'\n",
            "'Disc 4 worksheet to share - student version S2021.pdf'\n",
            "'Discussion 5 Mutation worksheet to share - student version2021.gdoc'\n",
            "'Discussion 5 Mutation worksheet to share - student version2021.pdf'\n",
            "'Discussion 8 Biotechnology S2021 worksheet to share w students  (1).gdoc'\n",
            "'Discussion 8 Biotechnology S2021 worksheet to share w students .docx'\n",
            "'Discussion 8 Biotechnology S2021 worksheet to share w students .gdoc'\n",
            "'Discussion 8 Biotechnology S2021 worksheet to share w students .pdf'\n",
            "'Discusssion 6 lac operon  worksheet to share student version S2021.gdoc'\n",
            "'Discusssion 6 lac operon  worksheet to share student version S2021.pdf'\n",
            "'Discusssion 7 Euk Gene Exp worksheet to share w students S2021.docx'\n",
            "'Doc Jun 29, 2020, 10:55.pdf'\n",
            "'Drone Assignments.gdoc'\n",
            "'Emma+Beyers+BIOL+483+Final+Paper+Draft (1) comments (1).gdoc'\n",
            "'Emma+Beyers+BIOL+483+Final+Paper+Draft (1) comments.gdoc'\n",
            "'Emma+Beyers+BIOL+483+Final+Paper+Draft (1) comments.pdf'\n",
            "'Emma Beyers BIOL 483 Final Paper Draft.docx'\n",
            "'Emma Beyers - Composicion 3 COVID_19.gdoc'\n",
            "'Emma Beyers Pre Write Journal #4.gdoc'\n",
            " Emma_Beyers_Resume\n",
            "'EXAM 1 Animal Phys .gdoc'\n",
            "'EXAM 2 Animal Phys.gdoc'\n",
            "'EXAM 3 Animal Phys.gdoc'\n",
            "'EXAM 4 Animal Phys.gdoc'\n",
            "'Extravasation discussion questions.gdoc'\n",
            "'Final Project (approved edits).gdoc'\n",
            "'Final Project BIOL 300L.gslides'\n",
            " FormFocus\n",
            "'Genetics Final.gdoc'\n",
            "'Genetics Lab Final.gdoc'\n",
            "'Getting started.pdf'\n",
            "'GPCR signaling-.gdoc'\n",
            "'Group 2 Glucose Transport and Diabetes Mellitus.gdoc'\n",
            "'Ilene Shipping Label.gdoc'\n",
            "'Ilene Shipping Label.pdf'\n",
            "'In Class Code.gdoc'\n",
            "'Individual Presentation .gslides'\n",
            "'infor interview.gdoc'\n",
            "'Journal # 3 Emma Beyers Prewrite .gdoc'\n",
            "'Kyle and Sarah List.xlsx'\n",
            "\"Kyle M.P.P's Resume.gdoc\"\n",
            "\"Kyle M.P.P's Resume.pdf\"\n",
            "'Lab 6 Torque new file.gdoc'\n",
            "'Listeria actin discussion questions (1).gdoc'\n",
            "'Listeria actin discussion questions.gdoc'\n",
            "'Major Themes Animal Phys.gdoc'\n",
            "\"Matt's Review Sheet.gdoc\"\n",
            "'Microtubule Polymerization and Depolymerization Rates.gdoc'\n",
            "'New Material Animal Phys.gdoc'\n",
            "'NLP Project Group 5'\n",
            "'Orgo 2 Exam 1 Review PDF.gdoc'\n",
            "'Orgo 2 Exam 1 Review PDF.pdf'\n",
            "'ORGO 2 Lab Final.gdoc'\n",
            "'Pet Connect PCB Master List.xlsx'\n",
            "'Phase 2 - 304.gdoc'\n",
            "'Phase 4.gdoc'\n",
            "'PHYLOGENY III:  Speciation and Species Concepts in Ravens.gdoc'\n",
            " PokemonDemo.MOV\n",
            "'Presentation Script.gdoc'\n",
            "'Pre Write # 2.gdoc'\n",
            "'PreWriting #1.gdoc'\n",
            "'Proj4 Schedule.gdoc'\n",
            "'Randomly Selected Individuals w Ages (1930 2008).gsheet'\n",
            "'RAPID RADIATION & HYBRIDIZATION IN NORTHERN ORIOLE GROUP & COUSINS -.gdoc'\n",
            "'README Project1.gdoc'\n",
            "'RegEx CheatSheet.gdoc'\n",
            "'Relevant Pre Lab Qs.gdoc'\n",
            "'Rough Draft Final Paper.docx'\n",
            "'Salmon Abstract Revisions (Beyers) (1).gdoc'\n",
            "'Salmon Abstract Revisions (Beyers).gdoc'\n",
            "'Salmon Abstract Revisions (Beyers).pdf'\n",
            "'SP20 Genetics Lab Midterm.gdoc'\n",
            "'Spanish Homework.gdoc'\n",
            "'Spring 2021_Final Exam Version 1_CHEM102L.docx'\n",
            "'STAT 355 QUIZ.gdoc'\n",
            "'UI Document Template (1).gdoc'\n",
            "'UI Document Template.gdoc'\n",
            "'Untitled document (1).gdoc'\n",
            "'Untitled document (2).gdoc'\n",
            "'Untitled document (3).gdoc'\n",
            "'Untitled document (4).gdoc'\n",
            "'Untitled document (5).gdoc'\n",
            "'Untitled document (6).gdoc'\n",
            "'Untitled document (7).gdoc'\n",
            "'Untitled document (8).gdoc'\n",
            "'Untitled document.gdoc'\n",
            "'Visionist Interview.gdoc'\n",
            "'Week 2 - Dilution Problems.gdoc'\n",
            "'Writing Journal Editing Key.gdoc'\n",
            "'Writing Journal Editing Key.pdf'\n"
          ]
        }
      ]
    },
    {
      "cell_type": "code",
      "source": [
        "dataset_path = \"/content/drive/MyDrive/Anemic_RBC_dataset/\""
      ],
      "metadata": {
        "id": "o8CdIFnaT9_C"
      },
      "execution_count": null,
      "outputs": []
    },
    {
      "cell_type": "code",
      "source": [
        "import os\n",
        "# list dataset folders\n",
        "print(\"Folders inside dataset:\", os.listdir(dataset_path))"
      ],
      "metadata": {
        "colab": {
          "base_uri": "https://localhost:8080/"
        },
        "id": "iRKFWAchUvhk",
        "outputId": "61285357-862d-4b41-c01b-a54a6b3d630a"
      },
      "execution_count": null,
      "outputs": [
        {
          "output_type": "stream",
          "name": "stdout",
          "text": [
            "Folders inside dataset: ['AneRBC-II']\n"
          ]
        }
      ]
    },
    {
      "cell_type": "code",
      "source": [
        "import glob\n",
        "# Path to dataset\n",
        "base_path = \"/content/drive/MyDrive/Anemic_RBC_dataset/AneRBC-II/\"\n",
        "\n",
        "# Define input directories\n",
        "anemic_path = os.path.join(base_path, \"Anemic_individuals/Original_images\")\n",
        "healthy_path = os.path.join(base_path, \"Healthy_individuals/Original_images\")\n",
        "\n",
        "# Define output directories\n",
        "output_base = \"/content/drive/MyDrive/Anemic_RBC_dataset_resized/\"\n",
        "anemic_output = os.path.join(output_base, \"Anemic\")\n",
        "healthy_output = os.path.join(output_base, \"Healthy\")\n",
        "\n",
        "# Create output directories if they don’t exist\n",
        "os.makedirs(anemic_output, exist_ok=True)\n",
        "os.makedirs(healthy_output, exist_ok=True)"
      ],
      "metadata": {
        "id": "wTXKa1Q0VwdH"
      },
      "execution_count": null,
      "outputs": []
    },
    {
      "cell_type": "code",
      "source": [
        "import cv2\n",
        "\n",
        "def resize_and_save(input_dir, output_dir):\n",
        "    image_files = glob.glob(os.path.join(input_dir, \"*.png\"))\n",
        "\n",
        "    for img_path in image_files:\n",
        "        img = cv2.imread(img_path)\n",
        "\n",
        "        if img is None:\n",
        "            print(f\"Could not read {img_path}, skipping...\")\n",
        "            continue\n",
        "\n",
        "        # Crop to square first\n",
        "        h, w, _ = img.shape\n",
        "        min_dim = min(h, w)\n",
        "        crop_x = (w - min_dim) // 2\n",
        "        crop_y = (h - min_dim) // 2\n",
        "        img_cropped = img[crop_y:crop_y + min_dim, crop_x:crop_x + min_dim]\n",
        "\n",
        "        # Resize to 256x256\n",
        "        img_resized = cv2.resize(img_cropped, (256, 256), interpolation=cv2.INTER_AREA)\n",
        "\n",
        "        # Save resized image\n",
        "        filename = os.path.basename(img_path)\n",
        "        cv2.imwrite(os.path.join(output_dir, filename), img_resized)\n",
        "\n",
        "    print(f\"Resizing complete. Images saved in: {output_dir}\")\n"
      ],
      "metadata": {
        "id": "BKKkgyAtkzHw"
      },
      "execution_count": null,
      "outputs": []
    },
    {
      "cell_type": "code",
      "source": [
        "resize_and_save(anemic_path, anemic_output)\n",
        "resize_and_save(healthy_path, healthy_output)"
      ],
      "metadata": {
        "colab": {
          "base_uri": "https://localhost:8080/"
        },
        "id": "iCR9bLeeccps",
        "outputId": "01421c65-67eb-4498-89e3-65748d235a6f"
      },
      "execution_count": null,
      "outputs": [
        {
          "output_type": "stream",
          "name": "stdout",
          "text": [
            "Resizing complete. Images saved in: /content/drive/MyDrive/Anemic_RBC_dataset_resized/Anemic\n",
            "Resizing complete. Images saved in: /content/drive/MyDrive/Anemic_RBC_dataset_resized/Healthy\n"
          ]
        }
      ]
    },
    {
      "cell_type": "code",
      "source": [
        "import cv2\n",
        "import os\n",
        "import random\n",
        "import glob\n",
        "\n",
        "# Define paths to resized images\n",
        "anemic_resized_path = \"/content/drive/MyDrive/Anemic_RBC_dataset_resized/Anemic/\"\n",
        "healthy_resized_path = \"/content/drive/MyDrive/Anemic_RBC_dataset_resized/Healthy/\"\n",
        "\n",
        "# Select a few random images from both categories\n",
        "anemic_images = glob.glob(os.path.join(anemic_resized_path, \"*.png\"))\n",
        "healthy_images = glob.glob(os.path.join(healthy_resized_path, \"*.png\"))\n",
        "\n",
        "# Pick a random sample of images\n",
        "sample_images = random.sample(anemic_images, min(3, len(anemic_images))) + \\\n",
        "                random.sample(healthy_images, min(3, len(healthy_images)))\n",
        "\n",
        "# Check their dimensions\n",
        "for img_path in sample_images:\n",
        "    img = cv2.imread(img_path)\n",
        "    if img is not None:\n",
        "        h, w, _ = img.shape\n",
        "        print(f\"{os.path.basename(img_path)} - Dimensions: {w}x{h}\")\n",
        "    else:\n",
        "        print(f\"Error loading image: {img_path}\")"
      ],
      "metadata": {
        "colab": {
          "base_uri": "https://localhost:8080/"
        },
        "id": "Tcs4-s-YeMr6",
        "outputId": "49a10568-5864-486c-f14e-cbd146086f01"
      },
      "execution_count": null,
      "outputs": [
        {
          "output_type": "stream",
          "name": "stdout",
          "text": [
            "0445_10_a.png - Dimensions: 256x256\n",
            "0262_06_a.png - Dimensions: 256x256\n",
            "0472_04_a.png - Dimensions: 256x256\n",
            "0182_12_h.png - Dimensions: 256x256\n",
            "0322_03_h.png - Dimensions: 256x256\n",
            "0159_12_h.png - Dimensions: 256x256\n"
          ]
        }
      ]
    },
    {
      "cell_type": "code",
      "source": [
        "print(\"Anemic images saved:\", len(os.listdir(anemic_output)))\n",
        "print(\"Healthy images saved:\", len(os.listdir(healthy_output)))"
      ],
      "metadata": {
        "colab": {
          "base_uri": "https://localhost:8080/"
        },
        "id": "SScOi1OXgOCX",
        "outputId": "0ac9bcd6-2156-4959-d717-cbeb96bfd10f"
      },
      "execution_count": null,
      "outputs": [
        {
          "output_type": "stream",
          "name": "stdout",
          "text": [
            "Anemic images saved: 6017\n",
            "Healthy images saved: 6020\n"
          ]
        }
      ]
    }
  ]
}